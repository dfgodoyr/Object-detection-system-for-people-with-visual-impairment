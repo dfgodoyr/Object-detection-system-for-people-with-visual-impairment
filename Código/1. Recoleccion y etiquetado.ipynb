{
 "cells": [
  {
   "cell_type": "markdown",
   "id": "5ca3c99e",
   "metadata": {},
   "source": [
    "<h1 style=\"text-align: center;\"><strong>PROYECTO FINAL VISI&Oacute;N DE M&Aacute;QUINA</strong></h1>\n",
    "<h2 style=\"text-align: center;\"><br />M&Oacute;DULO RECOLECCI&Oacute;N Y ETIQUETADO</h2>\n",
    "<h4 style=\"text-align: center;\"><br />Diego Fernando Godoy Rojas - Luis Carlos Fajardo Diaz</h4>\n",
    "<h4 style=\"text-align: center;\">Universidad Nacional De Colombia</h4>"
   ]
  },
  {
   "cell_type": "markdown",
   "id": "5a057ad2",
   "metadata": {},
   "source": [
    "# 1. Importamos dependencias"
   ]
  },
  {
   "cell_type": "markdown",
   "id": "dbbbd074",
   "metadata": {},
   "source": [
    "Empezamos definiendo las principales librerias a trabajar al inicio del proyecto:"
   ]
  },
  {
   "cell_type": "code",
   "execution_count": 17,
   "id": "be2df31d",
   "metadata": {},
   "outputs": [],
   "source": [
    "# Importamos opencv para el manejo de imagenes\n",
    "import cv2 \n",
    "\n",
    "# Importamos el generador de ID uuid\n",
    "import uuid\n",
    "\n",
    "# Importamos para trabajar con el sistema operativo\n",
    "import os\n",
    "\n",
    "# Importamos para manejo de tiempo\n",
    "import time"
   ]
  },
  {
   "cell_type": "markdown",
   "id": "d1428468",
   "metadata": {},
   "source": [
    "# 2. Lista de objetos a detectar"
   ]
  },
  {
   "cell_type": "markdown",
   "id": "2b34dec5",
   "metadata": {},
   "source": [
    "Se definira la lista de todos los objetos que se buscan detectar en el presente proyecto:"
   ]
  },
  {
   "cell_type": "code",
   "execution_count": 70,
   "id": "b40afbbf",
   "metadata": {},
   "outputs": [],
   "source": [
    "labels = ['2mil','5mil','Cedula','TarjetaCredito'] #Lista de objetos\n",
    "labels = ['Pruebas']\n",
    "number_imgs = 50 #Cuantas imagenes se tendran por objeto"
   ]
  },
  {
   "cell_type": "markdown",
   "id": "8fa7c782",
   "metadata": {},
   "source": [
    "# 3. Definición de carpetas"
   ]
  },
  {
   "cell_type": "markdown",
   "id": "fae09a01",
   "metadata": {},
   "source": [
    "Definimos las rutas de las carpetas donde se alojaran las imagenes, los modelos y el espacio de trabajo del presente proyecto:"
   ]
  },
  {
   "cell_type": "code",
   "execution_count": 71,
   "id": "e85626a1",
   "metadata": {},
   "outputs": [],
   "source": [
    "IMAGES_PATH = os.path.join('Tensorflow', 'workspace', 'images', 'collectedimages')"
   ]
  },
  {
   "cell_type": "code",
   "execution_count": 72,
   "id": "750133c3",
   "metadata": {},
   "outputs": [],
   "source": [
    "if not os.path.exists(IMAGES_PATH):\n",
    "    if os.name == 'posix':\n",
    "        !mkdir -p {IMAGES_PATH}\n",
    "    if os.name == 'nt':\n",
    "         !mkdir {IMAGES_PATH}\n",
    "for label in labels:\n",
    "    path = os.path.join(IMAGES_PATH, label)\n",
    "    if not os.path.exists(path):\n",
    "        !mkdir {path}"
   ]
  },
  {
   "cell_type": "markdown",
   "id": "6ccff09f",
   "metadata": {},
   "source": [
    "# 4. Captura de imagenes "
   ]
  },
  {
   "cell_type": "markdown",
   "id": "6e2d2142",
   "metadata": {},
   "source": [
    "Realizamos la captura de las imagenes de los objetos a trabajar en el proyecto, las cuales deben tener ciertas caracteristicas del objeto para obtener un conjunto de datos variado y de esta manera obtener resultados confiables. Entre estas caracteristicas deben haber diferente iluminación, posición, acercamiento, fondo, color (Si es posible), entre otras."
   ]
  },
  {
   "cell_type": "code",
   "execution_count": 89,
   "id": "0186767e",
   "metadata": {},
   "outputs": [
    {
     "name": "stdout",
     "output_type": "stream",
     "text": [
      "Collecting images for 2mil\n",
      "Collecting image 0\n",
      "Collecting image 1\n",
      "Collecting image 2\n",
      "Collecting image 3\n"
     ]
    }
   ],
   "source": [
    "for label in labels: # Para cada objeto\n",
    "    cap = cv2.VideoCapture(2) #Iniciamos la captura con: 1-Camara del computador 2-Camara del celular\n",
    "    print('Collecting images for {}'.format(label))\n",
    "    time.sleep(2) #Dejamos un tiempo de 10 segundo entre objetos para preparalos\n",
    "    for imgnum in range(number_imgs):\n",
    "        print('Collecting image {}'.format(imgnum))\n",
    "        ret, frame = cap.read()\n",
    "        imgname = os.path.join(IMAGES_PATH,label,label+'.'+'{}.jpg'.format(str(uuid.uuid1()))) #Asignamos a cada imagen un id unico en su carpeta\n",
    "        if imgnum==0:\n",
    "            pass\n",
    "        else:\n",
    "            cv2.imwrite(imgname, frame) #Guardamos la imagen\n",
    "            cv2.imshow('frame', frame) #Mostramos la imagen tomada\n",
    "        time.sleep(1) #Dejamos un tiempo de 5 segundos entre fotos para preparar la escena\n",
    "\n",
    "        if cv2.waitKey(1) & 0xFF == ord('q'):\n",
    "            break\n",
    "cap.release()\n",
    "cv2.destroyAllWindows()"
   ]
  },
  {
   "cell_type": "markdown",
   "id": "8dc80ab4",
   "metadata": {},
   "source": [
    "# 5. Etiqueta de imagenes"
   ]
  },
  {
   "cell_type": "markdown",
   "id": "3b9d24c7",
   "metadata": {},
   "source": [
    "En esta sección realizaremos el etiquetado de los objetos en las imagenes empleando la libreria grafica para Python **PYQT**:"
   ]
  },
  {
   "cell_type": "code",
   "execution_count": 24,
   "id": "9a9e50d2",
   "metadata": {},
   "outputs": [
    {
     "name": "stdout",
     "output_type": "stream",
     "text": [
      "Requirement already satisfied: pyqt5 in d:\\conda\\envs\\pfinalvm+\\lib\\site-packages (5.15.4)\n",
      "Requirement already satisfied: lxml in d:\\conda\\envs\\pfinalvm+\\lib\\site-packages (4.6.3)\n",
      "Requirement already satisfied: PyQt5-sip<13,>=12.8 in d:\\conda\\envs\\pfinalvm+\\lib\\site-packages (from pyqt5) (12.9.0)\n",
      "Requirement already satisfied: PyQt5-Qt5>=5.15 in d:\\conda\\envs\\pfinalvm+\\lib\\site-packages (from pyqt5) (5.15.2)\n"
     ]
    }
   ],
   "source": [
    "#Installamos los paquetes necesario\n",
    "!pip install --upgrade pyqt5 lxml"
   ]
  },
  {
   "cell_type": "code",
   "execution_count": 18,
   "id": "f97d35f6",
   "metadata": {},
   "outputs": [],
   "source": [
    "#Asignamos la ruta donde se guardaran las imagenes\n",
    "LABELIMG_PATH = os.path.join('Tensorflow', 'labelimg')\n",
    "#Creamos la carpeta asignada\n",
    "if not os.path.exists(LABELIMG_PATH):\n",
    "    !mkdir {LABELIMG_PATH}"
   ]
  },
  {
   "cell_type": "code",
   "execution_count": 19,
   "id": "733abd3c",
   "metadata": {},
   "outputs": [],
   "source": [
    "if os.name == 'posix':\n",
    "    !make qt5py3\n",
    "if os.name =='nt':\n",
    "    !cd {LABELIMG_PATH} && pyrcc5 -o libs/resources.py resources.qrc"
   ]
  },
  {
   "cell_type": "code",
   "execution_count": 20,
   "id": "81152698",
   "metadata": {
    "scrolled": true
   },
   "outputs": [
    {
     "name": "stdout",
     "output_type": "stream",
     "text": [
      "Image:D:\\ProyectoFinalVM\\Tensorflow\\workspace\\images\\collectedimages\\5mil\\5mil.0a9ea833-ff0c-11eb-a43b-c0e434d7a91c.jpg -> Annotation:D:/ProyectoFinalVM/Tensorflow/workspace/images/collectedimages/5mil/5mil.0a9ea833-ff0c-11eb-a43b-c0e434d7a91c.xml\n",
      "Image:D:\\ProyectoFinalVM\\Tensorflow\\workspace\\images\\collectedimages\\5mil\\5mil.0bd37434-ff0c-11eb-bc39-c0e434d7a91c.jpg -> Annotation:D:/ProyectoFinalVM/Tensorflow/workspace/images/collectedimages/5mil/5mil.0bd37434-ff0c-11eb-bc39-c0e434d7a91c.xml\n",
      "Image:D:\\ProyectoFinalVM\\Tensorflow\\workspace\\images\\collectedimages\\5mil\\5mil.0d08d466-ff0c-11eb-9560-c0e434d7a91c.jpg -> Annotation:D:/ProyectoFinalVM/Tensorflow/workspace/images/collectedimages/5mil/5mil.0d08d466-ff0c-11eb-9560-c0e434d7a91c.xml\n",
      "Image:D:\\ProyectoFinalVM\\Tensorflow\\workspace\\images\\collectedimages\\5mil\\5mil.00f7e0c4-ff0c-11eb-91ed-c0e434d7a91c.jpg -> Annotation:D:/ProyectoFinalVM/Tensorflow/workspace/images/collectedimages/5mil/5mil.00f7e0c4-ff0c-11eb-91ed-c0e434d7a91c.xml\n",
      "Image:D:\\ProyectoFinalVM\\Tensorflow\\workspace\\images\\collectedimages\\5mil\\5mil.0f72339c-ff0c-11eb-95ab-c0e434d7a91c.jpg -> Annotation:D:/ProyectoFinalVM/Tensorflow/workspace/images/collectedimages/5mil/5mil.0f72339c-ff0c-11eb-95ab-c0e434d7a91c.xml\n",
      "Image:D:\\ProyectoFinalVM\\Tensorflow\\workspace\\images\\collectedimages\\5mil\\5mil.1a9ef461-ff0c-11eb-a260-c0e434d7a91c.jpg -> Annotation:D:/ProyectoFinalVM/Tensorflow/workspace/images/collectedimages/5mil/5mil.1a9ef461-ff0c-11eb-a260-c0e434d7a91c.xml\n",
      "Image:D:\\ProyectoFinalVM\\Tensorflow\\workspace\\images\\collectedimages\\5mil\\5mil.1bd4693d-ff0c-11eb-a37a-c0e434d7a91c.jpg -> Annotation:D:/ProyectoFinalVM/Tensorflow/workspace/images/collectedimages/5mil/5mil.1bd4693d-ff0c-11eb-a37a-c0e434d7a91c.xml\n",
      "Image:D:\\ProyectoFinalVM\\Tensorflow\\workspace\\images\\collectedimages\\5mil\\5mil.1d09fba7-ff0c-11eb-ab7d-c0e434d7a91c.jpg -> Annotation:D:/ProyectoFinalVM/Tensorflow/workspace/images/collectedimages/5mil/5mil.1d09fba7-ff0c-11eb-ab7d-c0e434d7a91c.xml\n",
      "Image:D:\\ProyectoFinalVM\\Tensorflow\\workspace\\images\\collectedimages\\5mil\\5mil.1e3ede41-ff0c-11eb-8cc8-c0e434d7a91c.jpg -> Annotation:D:/ProyectoFinalVM/Tensorflow/workspace/images/collectedimages/5mil/5mil.1e3ede41-ff0c-11eb-8cc8-c0e434d7a91c.xml\n",
      "Image:D:\\ProyectoFinalVM\\Tensorflow\\workspace\\images\\collectedimages\\5mil\\5mil.1f741f3f-ff0c-11eb-9c36-c0e434d7a91c.jpg -> Annotation:D:/ProyectoFinalVM/Tensorflow/workspace/images/collectedimages/5mil/5mil.1f741f3f-ff0c-11eb-9c36-c0e434d7a91c.xml\n",
      "Image:D:\\ProyectoFinalVM\\Tensorflow\\workspace\\images\\collectedimages\\5mil\\5mil.2a4e8c28-ff0c-11eb-9eed-c0e434d7a91c.jpg -> Annotation:D:/ProyectoFinalVM/Tensorflow/workspace/images/collectedimages/5mil/5mil.2a4e8c28-ff0c-11eb-9eed-c0e434d7a91c.xml\n",
      "Image:D:\\ProyectoFinalVM\\Tensorflow\\workspace\\images\\collectedimages\\5mil\\5mil.2b830312-ff0c-11eb-a73d-c0e434d7a91c.jpg -> Annotation:D:/ProyectoFinalVM/Tensorflow/workspace/images/collectedimages/5mil/5mil.2b830312-ff0c-11eb-a73d-c0e434d7a91c.xml\n",
      "Image:D:\\ProyectoFinalVM\\Tensorflow\\workspace\\images\\collectedimages\\5mil\\5mil.2cb85069-ff0c-11eb-8d93-c0e434d7a91c.jpg -> Annotation:D:/ProyectoFinalVM/Tensorflow/workspace/images/collectedimages/5mil/5mil.2cb85069-ff0c-11eb-8d93-c0e434d7a91c.xml\n",
      "Image:D:\\ProyectoFinalVM\\Tensorflow\\workspace\\images\\collectedimages\\5mil\\5mil.15c00caa-ff0c-11eb-bb6f-c0e434d7a91c.jpg -> Annotation:D:/ProyectoFinalVM/Tensorflow/workspace/images/collectedimages/5mil/5mil.15c00caa-ff0c-11eb-bb6f-c0e434d7a91c.xml\n",
      "Image:D:\\ProyectoFinalVM\\Tensorflow\\workspace\\images\\collectedimages\\5mil\\5mil.20a89fc5-ff0c-11eb-9e5b-c0e434d7a91c.jpg -> Annotation:D:/ProyectoFinalVM/Tensorflow/workspace/images/collectedimages/5mil/5mil.20a89fc5-ff0c-11eb-9e5b-c0e434d7a91c.xml\n",
      "Image:D:\\ProyectoFinalVM\\Tensorflow\\workspace\\images\\collectedimages\\5mil\\5mil.21dd56f7-ff0c-11eb-9ee9-c0e434d7a91c.jpg -> Annotation:D:/ProyectoFinalVM/Tensorflow/workspace/images/collectedimages/5mil/5mil.21dd56f7-ff0c-11eb-9ee9-c0e434d7a91c.xml\n",
      "Image:D:\\ProyectoFinalVM\\Tensorflow\\workspace\\images\\collectedimages\\5mil\\5mil.022cad3e-ff0c-11eb-8505-c0e434d7a91c.jpg -> Annotation:D:/ProyectoFinalVM/Tensorflow/workspace/images/collectedimages/5mil/5mil.022cad3e-ff0c-11eb-8505-c0e434d7a91c.xml\n",
      "Image:D:\\ProyectoFinalVM\\Tensorflow\\workspace\\images\\collectedimages\\5mil\\5mil.26afbfd2-ff0c-11eb-b279-c0e434d7a91c.jpg -> Annotation:D:/ProyectoFinalVM/Tensorflow/workspace/images/collectedimages/5mil/5mil.26afbfd2-ff0c-11eb-b279-c0e434d7a91c.xml\n",
      "Image:D:\\ProyectoFinalVM\\Tensorflow\\workspace\\images\\collectedimages\\5mil\\5mil.27e49b46-ff0c-11eb-a7f7-c0e434d7a91c.jpg -> Annotation:D:/ProyectoFinalVM/Tensorflow/workspace/images/collectedimages/5mil/5mil.27e49b46-ff0c-11eb-a7f7-c0e434d7a91c.xml\n",
      "Image:D:\\ProyectoFinalVM\\Tensorflow\\workspace\\images\\collectedimages\\5mil\\5mil.257b833e-ff0c-11eb-8188-c0e434d7a91c.jpg -> Annotation:D:/ProyectoFinalVM/Tensorflow/workspace/images/collectedimages/5mil/5mil.257b833e-ff0c-11eb-8188-c0e434d7a91c.xml\n",
      "Image:D:\\ProyectoFinalVM\\Tensorflow\\workspace\\images\\collectedimages\\5mil\\5mil.2311e319-ff0c-11eb-8383-c0e434d7a91c.jpg -> Annotation:D:/ProyectoFinalVM/Tensorflow/workspace/images/collectedimages/5mil/5mil.2311e319-ff0c-11eb-8383-c0e434d7a91c.xml\n",
      "Image:D:\\ProyectoFinalVM\\Tensorflow\\workspace\\images\\collectedimages\\5mil\\5mil.04959ffa-ff0c-11eb-bc4a-c0e434d7a91c.jpg -> Annotation:D:/ProyectoFinalVM/Tensorflow/workspace/images/collectedimages/5mil/5mil.04959ffa-ff0c-11eb-bc4a-c0e434d7a91c.xml\n",
      "Image:D:\\ProyectoFinalVM\\Tensorflow\\workspace\\images\\collectedimages\\5mil\\5mil.18352c47-ff0c-11eb-b74b-c0e434d7a91c.jpg -> Annotation:D:/ProyectoFinalVM/Tensorflow/workspace/images/collectedimages/5mil/5mil.18352c47-ff0c-11eb-b74b-c0e434d7a91c.xml\n",
      "Image:D:\\ProyectoFinalVM\\Tensorflow\\workspace\\images\\collectedimages\\5mil\\5mil.036149e7-ff0c-11eb-822a-c0e434d7a91c.jpg -> Annotation:D:/ProyectoFinalVM/Tensorflow/workspace/images/collectedimages/5mil/5mil.036149e7-ff0c-11eb-822a-c0e434d7a91c.xml\n",
      "Image:D:\\ProyectoFinalVM\\Tensorflow\\workspace\\images\\collectedimages\\5mil\\5mil.070033aa-ff0c-11eb-910d-c0e434d7a91c.jpg -> Annotation:D:/ProyectoFinalVM/Tensorflow/workspace/images/collectedimages/5mil/5mil.070033aa-ff0c-11eb-910d-c0e434d7a91c.xml\n",
      "Image:D:\\ProyectoFinalVM\\Tensorflow\\workspace\\images\\collectedimages\\5mil\\5mil.083557b4-ff0c-11eb-8e92-c0e434d7a91c.jpg -> Annotation:D:/ProyectoFinalVM/Tensorflow/workspace/images/collectedimages/5mil/5mil.083557b4-ff0c-11eb-8e92-c0e434d7a91c.xml\n",
      "Image:D:\\ProyectoFinalVM\\Tensorflow\\workspace\\images\\collectedimages\\5mil\\5mil.bc0071f5-ff0c-11eb-9c07-c0e434d7a91c.jpg -> Annotation:D:/ProyectoFinalVM/Tensorflow/workspace/images/collectedimages/5mil/5mil.bc0071f5-ff0c-11eb-9c07-c0e434d7a91c.xml\n",
      "Image:D:\\ProyectoFinalVM\\Tensorflow\\workspace\\images\\collectedimages\\5mil\\5mil.bd410437-ff0c-11eb-b426-c0e434d7a91c.jpg -> Annotation:D:/ProyectoFinalVM/Tensorflow/workspace/images/collectedimages/5mil/5mil.bd410437-ff0c-11eb-b426-c0e434d7a91c.xml\n",
      "Image:D:\\ProyectoFinalVM\\Tensorflow\\workspace\\images\\collectedimages\\5mil\\5mil.be76a91c-ff0c-11eb-8527-c0e434d7a91c.jpg -> Annotation:D:/ProyectoFinalVM/Tensorflow/workspace/images/collectedimages/5mil/5mil.be76a91c-ff0c-11eb-8527-c0e434d7a91c.xml\n",
      "Image:D:\\ProyectoFinalVM\\Tensorflow\\workspace\\images\\collectedimages\\5mil\\5mil.bfab640b-ff0c-11eb-88fa-c0e434d7a91c.jpg -> Annotation:D:/ProyectoFinalVM/Tensorflow/workspace/images/collectedimages/5mil/5mil.bfab640b-ff0c-11eb-88fa-c0e434d7a91c.xml\n",
      "Image:D:\\ProyectoFinalVM\\Tensorflow\\workspace\\images\\collectedimages\\5mil\\5mil.c0e059fd-ff0c-11eb-8b2e-c0e434d7a91c.jpg -> Annotation:D:/ProyectoFinalVM/Tensorflow/workspace/images/collectedimages/5mil/5mil.c0e059fd-ff0c-11eb-8b2e-c0e434d7a91c.xml\n",
      "Image:D:\\ProyectoFinalVM\\Tensorflow\\workspace\\images\\collectedimages\\5mil\\5mil.c5b38abc-ff0c-11eb-8ff4-c0e434d7a91c.jpg -> Annotation:D:/ProyectoFinalVM/Tensorflow/workspace/images/collectedimages/5mil/5mil.c5b38abc-ff0c-11eb-8ff4-c0e434d7a91c.xml\n",
      "Image:D:\\ProyectoFinalVM\\Tensorflow\\workspace\\images\\collectedimages\\5mil\\5mil.c6e8046e-ff0c-11eb-aac9-c0e434d7a91c.jpg -> Annotation:D:/ProyectoFinalVM/Tensorflow/workspace/images/collectedimages/5mil/5mil.c6e8046e-ff0c-11eb-aac9-c0e434d7a91c.xml\n",
      "Image:D:\\ProyectoFinalVM\\Tensorflow\\workspace\\images\\collectedimages\\5mil\\5mil.c34a8126-ff0c-11eb-bcbe-c0e434d7a91c.jpg -> Annotation:D:/ProyectoFinalVM/Tensorflow/workspace/images/collectedimages/5mil/5mil.c34a8126-ff0c-11eb-bcbe-c0e434d7a91c.xml\n",
      "Image:D:\\ProyectoFinalVM\\Tensorflow\\workspace\\images\\collectedimages\\5mil\\5mil.c47f03f1-ff0c-11eb-b0b6-c0e434d7a91c.jpg -> Annotation:D:/ProyectoFinalVM/Tensorflow/workspace/images/collectedimages/5mil/5mil.c47f03f1-ff0c-11eb-b0b6-c0e434d7a91c.xml\n",
      "Image:D:\\ProyectoFinalVM\\Tensorflow\\workspace\\images\\collectedimages\\5mil\\5mil.c215873e-ff0c-11eb-ac01-c0e434d7a91c.jpg -> Annotation:D:/ProyectoFinalVM/Tensorflow/workspace/images/collectedimages/5mil/5mil.c215873e-ff0c-11eb-ac01-c0e434d7a91c.xml\n",
      "Image:D:\\ProyectoFinalVM\\Tensorflow\\workspace\\images\\collectedimages\\5mil\\5mil.dc81380a-ff0b-11eb-80d7-c0e434d7a91c.jpg -> Annotation:D:/ProyectoFinalVM/Tensorflow/workspace/images/collectedimages/5mil/5mil.dc81380a-ff0b-11eb-80d7-c0e434d7a91c.xml\n",
      "Image:D:\\ProyectoFinalVM\\Tensorflow\\workspace\\images\\collectedimages\\5mil\\5mil.ddc13878-ff0b-11eb-8de1-c0e434d7a91c.jpg -> Annotation:D:/ProyectoFinalVM/Tensorflow/workspace/images/collectedimages/5mil/5mil.ddc13878-ff0b-11eb-8de1-c0e434d7a91c.xml\n",
      "Image:D:\\ProyectoFinalVM\\Tensorflow\\workspace\\images\\collectedimages\\5mil\\5mil.def7175b-ff0b-11eb-bdcf-c0e434d7a91c.jpg -> Annotation:D:/ProyectoFinalVM/Tensorflow/workspace/images/collectedimages/5mil/5mil.def7175b-ff0b-11eb-bdcf-c0e434d7a91c.xml\n",
      "Image:D:\\ProyectoFinalVM\\Tensorflow\\workspace\\images\\collectedimages\\5mil\\5mil.e02bc90f-ff0b-11eb-87fc-c0e434d7a91c.jpg -> Annotation:D:/ProyectoFinalVM/Tensorflow/workspace/images/collectedimages/5mil/5mil.e02bc90f-ff0b-11eb-87fc-c0e434d7a91c.xml\n",
      "Image:D:\\ProyectoFinalVM\\Tensorflow\\workspace\\images\\collectedimages\\5mil\\5mil.e3cbb9cf-ff0b-11eb-91ee-c0e434d7a91c.jpg -> Annotation:D:/ProyectoFinalVM/Tensorflow/workspace/images/collectedimages/5mil/5mil.e3cbb9cf-ff0b-11eb-91ee-c0e434d7a91c.xml\n",
      "Image:D:\\ProyectoFinalVM\\Tensorflow\\workspace\\images\\collectedimages\\5mil\\5mil.e8a0bd94-ff0b-11eb-9537-c0e434d7a91c.jpg -> Annotation:D:/ProyectoFinalVM/Tensorflow/workspace/images/collectedimages/5mil/5mil.e8a0bd94-ff0b-11eb-9537-c0e434d7a91c.xml\n",
      "Image:D:\\ProyectoFinalVM\\Tensorflow\\workspace\\images\\collectedimages\\5mil\\5mil.e9d54a8a-ff0b-11eb-8dea-c0e434d7a91c.jpg -> Annotation:D:/ProyectoFinalVM/Tensorflow/workspace/images/collectedimages/5mil/5mil.e9d54a8a-ff0b-11eb-8dea-c0e434d7a91c.xml\n",
      "Image:D:\\ProyectoFinalVM\\Tensorflow\\workspace\\images\\collectedimages\\5mil\\5mil.e16129bd-ff0b-11eb-874a-c0e434d7a91c.jpg -> Annotation:D:/ProyectoFinalVM/Tensorflow/workspace/images/collectedimages/5mil/5mil.e16129bd-ff0b-11eb-874a-c0e434d7a91c.xml\n",
      "Image:D:\\ProyectoFinalVM\\Tensorflow\\workspace\\images\\collectedimages\\5mil\\5mil.e29638ea-ff0b-11eb-b391-c0e434d7a91c.jpg -> Annotation:D:/ProyectoFinalVM/Tensorflow/workspace/images/collectedimages/5mil/5mil.e29638ea-ff0b-11eb-b391-c0e434d7a91c.xml\n",
      "Image:D:\\ProyectoFinalVM\\Tensorflow\\workspace\\images\\collectedimages\\5mil\\5mil.ec3eca67-ff0b-11eb-9d04-c0e434d7a91c.jpg -> Annotation:D:/ProyectoFinalVM/Tensorflow/workspace/images/collectedimages/5mil/5mil.ec3eca67-ff0b-11eb-9d04-c0e434d7a91c.xml\n",
      "Image:D:\\ProyectoFinalVM\\Tensorflow\\workspace\\images\\collectedimages\\5mil\\5mil.ed730d2d-ff0b-11eb-a463-c0e434d7a91c.jpg -> Annotation:D:/ProyectoFinalVM/Tensorflow/workspace/images/collectedimages/5mil/5mil.ed730d2d-ff0b-11eb-a463-c0e434d7a91c.xml\n",
      "Image:D:\\ProyectoFinalVM\\Tensorflow\\workspace\\images\\collectedimages\\5mil\\5mil.eea7d549-ff0b-11eb-bf94-c0e434d7a91c.jpg -> Annotation:D:/ProyectoFinalVM/Tensorflow/workspace/images/collectedimages/5mil/5mil.eea7d549-ff0b-11eb-bf94-c0e434d7a91c.xml\n",
      "Image:D:\\ProyectoFinalVM\\Tensorflow\\workspace\\images\\collectedimages\\5mil\\5mil.f9b7f006-ff0b-11eb-be18-c0e434d7a91c.jpg -> Annotation:D:/ProyectoFinalVM/Tensorflow/workspace/images/collectedimages/5mil/5mil.f9b7f006-ff0b-11eb-be18-c0e434d7a91c.xml\n",
      "Image:D:\\ProyectoFinalVM\\Tensorflow\\workspace\\images\\collectedimages\\5mil\\5mil.f37b9fbe-ff0b-11eb-8778-c0e434d7a91c.jpg -> Annotation:D:/ProyectoFinalVM/Tensorflow/workspace/images/collectedimages/5mil/5mil.f37b9fbe-ff0b-11eb-8778-c0e434d7a91c.xml\n",
      "Image:D:\\ProyectoFinalVM\\Tensorflow\\workspace\\images\\collectedimages\\5mil\\5mil.f246e796-ff0b-11eb-8b86-c0e434d7a91c.jpg -> Annotation:D:/ProyectoFinalVM/Tensorflow/workspace/images/collectedimages/5mil/5mil.f246e796-ff0b-11eb-8b86-c0e434d7a91c.xml\n",
      "Image:D:\\ProyectoFinalVM\\Tensorflow\\workspace\\images\\collectedimages\\5mil\\5mil.f1127b77-ff0b-11eb-bce1-c0e434d7a91c.jpg -> Annotation:D:/ProyectoFinalVM/Tensorflow/workspace/images/collectedimages/5mil/5mil.f1127b77-ff0b-11eb-bce1-c0e434d7a91c.xml\n",
      "Image:D:\\ProyectoFinalVM\\Tensorflow\\workspace\\images\\collectedimages\\5mil\\5mil.f8762ed9-ff0b-11eb-a710-c0e434d7a91c.jpg -> Annotation:D:/ProyectoFinalVM/Tensorflow/workspace/images/collectedimages/5mil/5mil.f8762ed9-ff0b-11eb-a710-c0e434d7a91c.xml\n",
      "Image:D:\\ProyectoFinalVM\\Tensorflow\\workspace\\images\\collectedimages\\5mil\\5mil.fc2303e1-ff0b-11eb-abb5-c0e434d7a91c.jpg -> Annotation:D:/ProyectoFinalVM/Tensorflow/workspace/images/collectedimages/5mil/5mil.fc2303e1-ff0b-11eb-abb5-c0e434d7a91c.xml\n",
      "Image:D:\\ProyectoFinalVM\\Tensorflow\\workspace\\images\\collectedimages\\5mil\\5mil.fd5858f7-ff0b-11eb-a620-c0e434d7a91c.jpg -> Annotation:D:/ProyectoFinalVM/Tensorflow/workspace/images/collectedimages/5mil/5mil.fd5858f7-ff0b-11eb-a620-c0e434d7a91c.xml\n",
      "Image:D:\\ProyectoFinalVM\\Tensorflow\\workspace\\images\\collectedimages\\5mil\\5mil.ffc2e576-ff0b-11eb-abee-c0e434d7a91c.jpg -> Annotation:D:/ProyectoFinalVM/Tensorflow/workspace/images/collectedimages/5mil/5mil.ffc2e576-ff0b-11eb-abee-c0e434d7a91c.xml\n",
      "Image:D:\\ProyectoFinalVM\\Tensorflow\\workspace\\images\\collectedimages\\Cedula\\Cedula.6adefdc1-ff19-11eb-abfa-c0e434d7a91c.jpg -> Annotation:D:/ProyectoFinalVM/Tensorflow/workspace/images/collectedimages/Cedula/Cedula.6adefdc1-ff19-11eb-abfa-c0e434d7a91c.xml\n",
      "Image:D:\\ProyectoFinalVM\\Tensorflow\\workspace\\images\\collectedimages\\Cedula\\Cedula.6c12987d-ff19-11eb-b22c-c0e434d7a91c.jpg -> Annotation:D:/ProyectoFinalVM/Tensorflow/workspace/images/collectedimages/Cedula/Cedula.6c12987d-ff19-11eb-b22c-c0e434d7a91c.xml\n",
      "Image:D:\\ProyectoFinalVM\\Tensorflow\\workspace\\images\\collectedimages\\Cedula\\Cedula.6d45fae1-ff19-11eb-bc03-c0e434d7a91c.jpg -> Annotation:D:/ProyectoFinalVM/Tensorflow/workspace/images/collectedimages/Cedula/Cedula.6d45fae1-ff19-11eb-bc03-c0e434d7a91c.xml\n",
      "Image:D:\\ProyectoFinalVM\\Tensorflow\\workspace\\images\\collectedimages\\Cedula\\Cedula.6facc006-ff19-11eb-9cf6-c0e434d7a91c.jpg -> Annotation:D:/ProyectoFinalVM/Tensorflow/workspace/images/collectedimages/Cedula/Cedula.6facc006-ff19-11eb-9cf6-c0e434d7a91c.xml\n",
      "Image:D:\\ProyectoFinalVM\\Tensorflow\\workspace\\images\\collectedimages\\Cedula\\Cedula.7a7cb3b3-ff19-11eb-a6b5-c0e434d7a91c.jpg -> Annotation:D:/ProyectoFinalVM/Tensorflow/workspace/images/collectedimages/Cedula/Cedula.7a7cb3b3-ff19-11eb-a6b5-c0e434d7a91c.xml\n",
      "Image:D:\\ProyectoFinalVM\\Tensorflow\\workspace\\images\\collectedimages\\Cedula\\Cedula.7baffe2b-ff19-11eb-a68d-c0e434d7a91c.jpg -> Annotation:D:/ProyectoFinalVM/Tensorflow/workspace/images/collectedimages/Cedula/Cedula.7baffe2b-ff19-11eb-a68d-c0e434d7a91c.xml\n",
      "Image:D:\\ProyectoFinalVM\\Tensorflow\\workspace\\images\\collectedimages\\Cedula\\Cedula.7ce41383-ff19-11eb-8169-c0e434d7a91c.jpg -> Annotation:D:/ProyectoFinalVM/Tensorflow/workspace/images/collectedimages/Cedula/Cedula.7ce41383-ff19-11eb-8169-c0e434d7a91c.xml\n",
      "Image:D:\\ProyectoFinalVM\\Tensorflow\\workspace\\images\\collectedimages\\Cedula\\Cedula.8a5f30b7-ff19-11eb-9221-c0e434d7a91c.jpg -> Annotation:D:/ProyectoFinalVM/Tensorflow/workspace/images/collectedimages/Cedula/Cedula.8a5f30b7-ff19-11eb-9221-c0e434d7a91c.xml\n",
      "Image:D:\\ProyectoFinalVM\\Tensorflow\\workspace\\images\\collectedimages\\Cedula\\Cedula.8dfaee01-ff19-11eb-9224-c0e434d7a91c.jpg -> Annotation:D:/ProyectoFinalVM/Tensorflow/workspace/images/collectedimages/Cedula/Cedula.8dfaee01-ff19-11eb-9224-c0e434d7a91c.xml\n",
      "Image:D:\\ProyectoFinalVM\\Tensorflow\\workspace\\images\\collectedimages\\Cedula\\Cedula.9a0a006f-ff19-11eb-a556-c0e434d7a91c.jpg -> Annotation:D:/ProyectoFinalVM/Tensorflow/workspace/images/collectedimages/Cedula/Cedula.9a0a006f-ff19-11eb-a556-c0e434d7a91c.xml\n",
      "Image:D:\\ProyectoFinalVM\\Tensorflow\\workspace\\images\\collectedimages\\Cedula\\Cedula.9b3eb8a9-ff19-11eb-b1cc-c0e434d7a91c.jpg -> Annotation:D:/ProyectoFinalVM/Tensorflow/workspace/images/collectedimages/Cedula/Cedula.9b3eb8a9-ff19-11eb-b1cc-c0e434d7a91c.xml\n",
      "Image:D:\\ProyectoFinalVM\\Tensorflow\\workspace\\images\\collectedimages\\Cedula\\Cedula.69a63f6d-ff19-11eb-aa9a-c0e434d7a91c.jpg -> Annotation:D:/ProyectoFinalVM/Tensorflow/workspace/images/collectedimages/Cedula/Cedula.69a63f6d-ff19-11eb-aa9a-c0e434d7a91c.xml\n",
      "Image:D:\\ProyectoFinalVM\\Tensorflow\\workspace\\images\\collectedimages\\Cedula\\Cedula.70e04517-ff19-11eb-9f74-c0e434d7a91c.jpg -> Annotation:D:/ProyectoFinalVM/Tensorflow/workspace/images/collectedimages/Cedula/Cedula.70e04517-ff19-11eb-9f74-c0e434d7a91c.xml\n",
      "Image:D:\\ProyectoFinalVM\\Tensorflow\\workspace\\images\\collectedimages\\Cedula\\Cedula.75af09b0-ff19-11eb-947d-c0e434d7a91c.jpg -> Annotation:D:/ProyectoFinalVM/Tensorflow/workspace/images/collectedimages/Cedula/Cedula.75af09b0-ff19-11eb-947d-c0e434d7a91c.xml\n",
      "Image:D:\\ProyectoFinalVM\\Tensorflow\\workspace\\images\\collectedimages\\Cedula\\Cedula.76e2ad26-ff19-11eb-9571-c0e434d7a91c.jpg -> Annotation:D:/ProyectoFinalVM/Tensorflow/workspace/images/collectedimages/Cedula/Cedula.76e2ad26-ff19-11eb-9571-c0e434d7a91c.xml\n",
      "Image:D:\\ProyectoFinalVM\\Tensorflow\\workspace\\images\\collectedimages\\Cedula\\Cedula.86c1cbc6-ff19-11eb-91a0-c0e434d7a91c.jpg -> Annotation:D:/ProyectoFinalVM/Tensorflow/workspace/images/collectedimages/Cedula/Cedula.86c1cbc6-ff19-11eb-91a0-c0e434d7a91c.xml\n",
      "Image:D:\\ProyectoFinalVM\\Tensorflow\\workspace\\images\\collectedimages\\Cedula\\Cedula.892b1872-ff19-11eb-8ab8-c0e434d7a91c.jpg -> Annotation:D:/ProyectoFinalVM/Tensorflow/workspace/images/collectedimages/Cedula/Cedula.892b1872-ff19-11eb-8ab8-c0e434d7a91c.xml\n",
      "Image:D:\\ProyectoFinalVM\\Tensorflow\\workspace\\images\\collectedimages\\Cedula\\Cedula.966b2d61-ff19-11eb-be92-c0e434d7a91c.jpg -> Annotation:D:/ProyectoFinalVM/Tensorflow/workspace/images/collectedimages/Cedula/Cedula.966b2d61-ff19-11eb-be92-c0e434d7a91c.xml\n",
      "Image:D:\\ProyectoFinalVM\\Tensorflow\\workspace\\images\\collectedimages\\Cedula\\Cedula.979fc616-ff19-11eb-841f-c0e434d7a91c.jpg -> Annotation:D:/ProyectoFinalVM/Tensorflow/workspace/images/collectedimages/Cedula/Cedula.979fc616-ff19-11eb-841f-c0e434d7a91c.xml\n",
      "Image:D:\\ProyectoFinalVM\\Tensorflow\\workspace\\images\\collectedimages\\Cedula\\Cedula.7347c481-ff19-11eb-a598-c0e434d7a91c.jpg -> Annotation:D:/ProyectoFinalVM/Tensorflow/workspace/images/collectedimages/Cedula/Cedula.7347c481-ff19-11eb-a598-c0e434d7a91c.xml\n",
      "Image:D:\\ProyectoFinalVM\\Tensorflow\\workspace\\images\\collectedimages\\Cedula\\Cedula.8081acc6-ff19-11eb-946d-c0e434d7a91c.jpg -> Annotation:D:/ProyectoFinalVM/Tensorflow/workspace/images/collectedimages/Cedula/Cedula.8081acc6-ff19-11eb-946d-c0e434d7a91c.xml\n",
      "Image:D:\\ProyectoFinalVM\\Tensorflow\\workspace\\images\\collectedimages\\Cedula\\Cedula.7816245e-ff19-11eb-860e-c0e434d7a91c.jpg -> Annotation:D:/ProyectoFinalVM/Tensorflow/workspace/images/collectedimages/Cedula/Cedula.7816245e-ff19-11eb-860e-c0e434d7a91c.xml\n",
      "Image:D:\\ProyectoFinalVM\\Tensorflow\\workspace\\images\\collectedimages\\Cedula\\Cedula.8585700e-ff19-11eb-b960-c0e434d7a91c.jpg -> Annotation:D:/ProyectoFinalVM/Tensorflow/workspace/images/collectedimages/Cedula/Cedula.8585700e-ff19-11eb-b960-c0e434d7a91c.xml\n",
      "Image:D:\\ProyectoFinalVM\\Tensorflow\\workspace\\images\\collectedimages\\Cedula\\Cedula.72138665-ff19-11eb-8569-c0e434d7a91c.jpg -> Annotation:D:/ProyectoFinalVM/Tensorflow/workspace/images/collectedimages/Cedula/Cedula.72138665-ff19-11eb-8569-c0e434d7a91c.xml\n",
      "Image:D:\\ProyectoFinalVM\\Tensorflow\\workspace\\images\\collectedimages\\Cedula\\Cedula.a8ab6b2e-ff0d-11eb-9cbe-c0e434d7a91c.jpg -> Annotation:D:/ProyectoFinalVM/Tensorflow/workspace/images/collectedimages/Cedula/Cedula.a8ab6b2e-ff0d-11eb-9cbe-c0e434d7a91c.xml\n",
      "Image:D:\\ProyectoFinalVM\\Tensorflow\\workspace\\images\\collectedimages\\Cedula\\Cedula.a9e09213-ff0d-11eb-b831-c0e434d7a91c.jpg -> Annotation:D:/ProyectoFinalVM/Tensorflow/workspace/images/collectedimages/Cedula/Cedula.a9e09213-ff0d-11eb-b831-c0e434d7a91c.xml\n",
      "Image:D:\\ProyectoFinalVM\\Tensorflow\\workspace\\images\\collectedimages\\Cedula\\Cedula.ac4a6bbd-ff0d-11eb-8f57-c0e434d7a91c.jpg -> Annotation:D:/ProyectoFinalVM/Tensorflow/workspace/images/collectedimages/Cedula/Cedula.ac4a6bbd-ff0d-11eb-8f57-c0e434d7a91c.xml\n",
      "Image:D:\\ProyectoFinalVM\\Tensorflow\\workspace\\images\\collectedimages\\Cedula\\Cedula.ad7f6a1d-ff0d-11eb-9a01-c0e434d7a91c.jpg -> Annotation:D:/ProyectoFinalVM/Tensorflow/workspace/images/collectedimages/Cedula/Cedula.ad7f6a1d-ff0d-11eb-9a01-c0e434d7a91c.xml\n",
      "Image:D:\\ProyectoFinalVM\\Tensorflow\\workspace\\images\\collectedimages\\Cedula\\Cedula.b4bb3b1d-ff0d-11eb-a934-c0e434d7a91c.jpg -> Annotation:D:/ProyectoFinalVM/Tensorflow/workspace/images/collectedimages/Cedula/Cedula.b4bb3b1d-ff0d-11eb-a934-c0e434d7a91c.xml\n",
      "Image:D:\\ProyectoFinalVM\\Tensorflow\\workspace\\images\\collectedimages\\Cedula\\Cedula.b5f0347f-ff0d-11eb-a68b-c0e434d7a91c.jpg -> Annotation:D:/ProyectoFinalVM/Tensorflow/workspace/images/collectedimages/Cedula/Cedula.b5f0347f-ff0d-11eb-a68b-c0e434d7a91c.xml\n",
      "Image:D:\\ProyectoFinalVM\\Tensorflow\\workspace\\images\\collectedimages\\Cedula\\Cedula.b85dd1eb-ff0d-11eb-ac33-c0e434d7a91c.jpg -> Annotation:D:/ProyectoFinalVM/Tensorflow/workspace/images/collectedimages/Cedula/Cedula.b85dd1eb-ff0d-11eb-ac33-c0e434d7a91c.xml\n",
      "Image:D:\\ProyectoFinalVM\\Tensorflow\\workspace\\images\\collectedimages\\Cedula\\Cedula.b2524c80-ff0d-11eb-97e7-c0e434d7a91c.jpg -> Annotation:D:/ProyectoFinalVM/Tensorflow/workspace/images/collectedimages/Cedula/Cedula.b2524c80-ff0d-11eb-97e7-c0e434d7a91c.xml\n",
      "Image:D:\\ProyectoFinalVM\\Tensorflow\\workspace\\images\\collectedimages\\Cedula\\Cedula.b3870bb7-ff0d-11eb-9fb7-c0e434d7a91c.jpg -> Annotation:D:/ProyectoFinalVM/Tensorflow/workspace/images/collectedimages/Cedula/Cedula.b3870bb7-ff0d-11eb-9fb7-c0e434d7a91c.xml\n",
      "Image:D:\\ProyectoFinalVM\\Tensorflow\\workspace\\images\\collectedimages\\Cedula\\Cedula.b9926dec-ff0d-11eb-b8da-c0e434d7a91c.jpg -> Annotation:D:/ProyectoFinalVM/Tensorflow/workspace/images/collectedimages/Cedula/Cedula.b9926dec-ff0d-11eb-b8da-c0e434d7a91c.xml\n",
      "Image:D:\\ProyectoFinalVM\\Tensorflow\\workspace\\images\\collectedimages\\Cedula\\Cedula.bac79371-ff0d-11eb-8205-c0e434d7a91c.jpg -> Annotation:D:/ProyectoFinalVM/Tensorflow/workspace/images/collectedimages/Cedula/Cedula.bac79371-ff0d-11eb-8205-c0e434d7a91c.xml\n",
      "Image:D:\\ProyectoFinalVM\\Tensorflow\\workspace\\images\\collectedimages\\Cedula\\Cedula.bbfc6c97-ff0d-11eb-a5d6-c0e434d7a91c.jpg -> Annotation:D:/ProyectoFinalVM/Tensorflow/workspace/images/collectedimages/Cedula/Cedula.bbfc6c97-ff0d-11eb-a5d6-c0e434d7a91c.xml\n",
      "Image:D:\\ProyectoFinalVM\\Tensorflow\\workspace\\images\\collectedimages\\Cedula\\Cedula.bd30ea6c-ff0d-11eb-9e05-c0e434d7a91c.jpg -> Annotation:D:/ProyectoFinalVM/Tensorflow/workspace/images/collectedimages/Cedula/Cedula.bd30ea6c-ff0d-11eb-9e05-c0e434d7a91c.xml\n",
      "Image:D:\\ProyectoFinalVM\\Tensorflow\\workspace\\images\\collectedimages\\Cedula\\Cedula.c2e8b1f1-ff0d-11eb-a098-c0e434d7a91c.jpg -> Annotation:D:/ProyectoFinalVM/Tensorflow/workspace/images/collectedimages/Cedula/Cedula.c2e8b1f1-ff0d-11eb-a098-c0e434d7a91c.xml\n",
      "Image:D:\\ProyectoFinalVM\\Tensorflow\\workspace\\images\\collectedimages\\Cedula\\Cedula.c7c91665-ff0d-11eb-a6b1-c0e434d7a91c.jpg -> Annotation:D:/ProyectoFinalVM/Tensorflow/workspace/images/collectedimages/Cedula/Cedula.c7c91665-ff0d-11eb-a6b1-c0e434d7a91c.xml\n",
      "Image:D:\\ProyectoFinalVM\\Tensorflow\\workspace\\images\\collectedimages\\Cedula\\Cedula.c8fd59d8-ff0d-11eb-a32f-c0e434d7a91c.jpg -> Annotation:D:/ProyectoFinalVM/Tensorflow/workspace/images/collectedimages/Cedula/Cedula.c8fd59d8-ff0d-11eb-a32f-c0e434d7a91c.xml\n",
      "Image:D:\\ProyectoFinalVM\\Tensorflow\\workspace\\images\\collectedimages\\Cedula\\Cedula.c42ae240-ff0d-11eb-9d98-c0e434d7a91c.jpg -> Annotation:D:/ProyectoFinalVM/Tensorflow/workspace/images/collectedimages/Cedula/Cedula.c42ae240-ff0d-11eb-9d98-c0e434d7a91c.xml\n",
      "Image:D:\\ProyectoFinalVM\\Tensorflow\\workspace\\images\\collectedimages\\Cedula\\Cedula.c55fc1ae-ff0d-11eb-9ed5-c0e434d7a91c.jpg -> Annotation:D:/ProyectoFinalVM/Tensorflow/workspace/images/collectedimages/Cedula/Cedula.c55fc1ae-ff0d-11eb-9ed5-c0e434d7a91c.xml\n",
      "Image:D:\\ProyectoFinalVM\\Tensorflow\\workspace\\images\\collectedimages\\Cedula\\Cedula.c6944d8b-ff0d-11eb-b898-c0e434d7a91c.jpg -> Annotation:D:/ProyectoFinalVM/Tensorflow/workspace/images/collectedimages/Cedula/Cedula.c6944d8b-ff0d-11eb-b898-c0e434d7a91c.xml\n",
      "Image:D:\\ProyectoFinalVM\\Tensorflow\\workspace\\images\\collectedimages\\Cedula\\Cedula.ca330c84-ff0d-11eb-bbb0-c0e434d7a91c.jpg -> Annotation:D:/ProyectoFinalVM/Tensorflow/workspace/images/collectedimages/Cedula/Cedula.ca330c84-ff0d-11eb-bbb0-c0e434d7a91c.xml\n",
      "Image:D:\\ProyectoFinalVM\\Tensorflow\\workspace\\images\\collectedimages\\Cedula\\Cedula.cb675167-ff0d-11eb-b641-c0e434d7a91c.jpg -> Annotation:D:/ProyectoFinalVM/Tensorflow/workspace/images/collectedimages/Cedula/Cedula.cb675167-ff0d-11eb-b641-c0e434d7a91c.xml\n",
      "Image:D:\\ProyectoFinalVM\\Tensorflow\\workspace\\images\\collectedimages\\Cedula\\Cedula.cc9beb06-ff0d-11eb-9b23-c0e434d7a91c.jpg -> Annotation:D:/ProyectoFinalVM/Tensorflow/workspace/images/collectedimages/Cedula/Cedula.cc9beb06-ff0d-11eb-9b23-c0e434d7a91c.xml\n",
      "Image:D:\\ProyectoFinalVM\\Tensorflow\\workspace\\images\\collectedimages\\Cedula\\Cedula.cdd0083b-ff0d-11eb-91b6-c0e434d7a91c.jpg -> Annotation:D:/ProyectoFinalVM/Tensorflow/workspace/images/collectedimages/Cedula/Cedula.cdd0083b-ff0d-11eb-91b6-c0e434d7a91c.xml\n",
      "Image:D:\\ProyectoFinalVM\\Tensorflow\\workspace\\images\\collectedimages\\Cedula\\Cedula.cf052b42-ff0d-11eb-b753-c0e434d7a91c.jpg -> Annotation:D:/ProyectoFinalVM/Tensorflow/workspace/images/collectedimages/Cedula/Cedula.cf052b42-ff0d-11eb-b753-c0e434d7a91c.xml\n",
      "Image:D:\\ProyectoFinalVM\\Tensorflow\\workspace\\images\\collectedimages\\Cedula\\Cedula.d03a0760-ff0d-11eb-96bd-c0e434d7a91c.jpg -> Annotation:D:/ProyectoFinalVM/Tensorflow/workspace/images/collectedimages/Cedula/Cedula.d03a0760-ff0d-11eb-96bd-c0e434d7a91c.xml\n"
     ]
    }
   ],
   "source": [
    "#Ejecutamos el comando de consola para abrir PYQT en la carpeta de las imagenes\n",
    "!cd {LABELIMG_PATH} && python labelImg.py"
   ]
  },
  {
   "cell_type": "markdown",
   "id": "f59fb7f8",
   "metadata": {},
   "source": [
    "# 6. Compresión para trabajar en Colab"
   ]
  },
  {
   "cell_type": "markdown",
   "id": "81cf4856",
   "metadata": {},
   "source": [
    "Debido a que se esta trabajando en un entorno local con Jupyter el hardware disponible no es lo suficientemente alto para realizar el entrenamiento del modelo de manera optima, es por esto que el entramiento se realizara en el entorno de la nube Colab ya que nos permite trabajar con la GPU integrada de nuestro hardware, de esta manera comprimimos las imagenes etiquetadas para poder importarlas y trabajar desde la nube:"
   ]
  },
  {
   "cell_type": "code",
   "execution_count": 21,
   "id": "e09cdba4",
   "metadata": {},
   "outputs": [],
   "source": [
    "#Definimos las rutas que se desean comprimir\n",
    "TRAIN_PATH = os.path.join('Tensorflow', 'workspace', 'images', 'train')\n",
    "TEST_PATH = os.path.join('Tensorflow', 'workspace', 'images', 'test')\n",
    "ARCHIVE_PATH = os.path.join('Tensorflow', 'workspace', 'images', 'archive.tar.gz')\n",
    "#Comprimimos en un archivo .Tar\n",
    "!tar -czf {ARCHIVE_PATH} {TRAIN_PATH} {TEST_PATH}"
   ]
  }
 ],
 "metadata": {
  "kernelspec": {
   "display_name": "Python 3",
   "language": "python",
   "name": "python3"
  },
  "language_info": {
   "codemirror_mode": {
    "name": "ipython",
    "version": 3
   },
   "file_extension": ".py",
   "mimetype": "text/x-python",
   "name": "python",
   "nbconvert_exporter": "python",
   "pygments_lexer": "ipython3",
   "version": "3.8.10"
  }
 },
 "nbformat": 4,
 "nbformat_minor": 5
}
